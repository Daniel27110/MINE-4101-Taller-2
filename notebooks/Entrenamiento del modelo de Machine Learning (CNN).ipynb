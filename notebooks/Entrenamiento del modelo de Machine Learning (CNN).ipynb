{
 "cells": [
  {
   "cell_type": "markdown",
   "metadata": {},
   "source": [
    "# Taller 2"
   ]
  },
  {
   "cell_type": "markdown",
   "metadata": {},
   "source": [
    "Daniel Felipe Vargas Ulloa - 202123899\n",
    "Andres Francisco Borda - 201729184\n",
    "MINE-4101: Ciencia de Datos Aplicada"
   ]
  },
  {
   "cell_type": "markdown",
   "metadata": {},
   "source": [
    "## 1. Preparación"
   ]
  },
  {
   "cell_type": "code",
   "execution_count": 1,
   "metadata": {},
   "outputs": [
    {
     "name": "stdout",
     "output_type": "stream",
     "text": [
      "WARNING:tensorflow:From c:\\Users\\andre\\AppData\\Local\\Programs\\Python\\Python311\\Lib\\site-packages\\keras\\src\\losses.py:2976: The name tf.losses.sparse_softmax_cross_entropy is deprecated. Please use tf.compat.v1.losses.sparse_softmax_cross_entropy instead.\n",
      "\n"
     ]
    }
   ],
   "source": [
    "# Importaciones necesarias para construir el modelo\n",
    "\n",
    "# Manipulación de datos\n",
    "import numpy as np\n",
    "import pandas as pd\n",
    "\n",
    "# Manejo de imágenes y visualización\n",
    "import matplotlib.pyplot as plt\n",
    "import seaborn as sns\n",
    "from PIL import Image\n",
    "\n",
    "# Librerías de machine learning y deep learning\n",
    "import tensorflow as tf\n",
    "from tensorflow.keras.models import Sequential\n",
    "from tensorflow.keras.layers import Dense, Dropout, Flatten, Conv2D, MaxPooling2D\n",
    "from tensorflow.keras.preprocessing.image import ImageDataGenerator\n",
    "from sklearn.model_selection import train_test_split\n",
    "from sklearn.metrics import classification_report, confusion_matrix\n",
    "\n",
    "# Configuración adicional\n",
    "import os\n",
    "import warnings\n",
    "warnings.filterwarnings('ignore')\n",
    "\n",
    "\n"
   ]
  },
  {
   "cell_type": "code",
   "execution_count": 3,
   "metadata": {},
   "outputs": [
    {
     "name": "stdout",
     "output_type": "stream",
     "text": [
      "Found 21120 images belonging to 43 classes.\n",
      "Found 296 images belonging to 3 classes.\n",
      "Found 2485 images belonging to 3 classes.\n",
      "Clases encontradas: {'Apple': 0, 'Asparagus': 1, 'Aubergine': 2, 'Avocado': 3, 'Banana': 4, 'Cabbage': 5, 'Carrots': 6, 'Cucumber': 7, 'Garlic': 8, 'Ginger': 9, 'Juice': 10, 'Kiwi': 11, 'Leek': 12, 'Lemon': 13, 'Lime': 14, 'Mango': 15, 'Melon': 16, 'Milk': 17, 'Mushroom': 18, 'Nectarine': 19, 'Oat-Milk': 20, 'Oatghurt': 21, 'Onion': 22, 'Orange': 23, 'Papaya': 24, 'Passion-Fruit': 25, 'Peach': 26, 'Pear': 27, 'Pepper': 28, 'Pineapple': 29, 'Plum': 30, 'Pomegranate': 31, 'Potato': 32, 'Red-Beet': 33, 'Red-Grapefruit': 34, 'Satsumas': 35, 'Sour-Cream': 36, 'Sour-Milk': 37, 'Soy-Milk': 38, 'Soyghurt': 39, 'Tomato': 40, 'Yoghurt': 41, 'Zucchini': 42}\n"
     ]
    }
   ],
   "source": [
    "# Cargamos los tres sets de datos \n",
    "\n",
    "# Directorios de los conjuntos de datos\n",
    "train_dir = 'GroceryStoreDataset/dataset/train_augmented/'\n",
    "valid_dir = 'GroceryStoreDataset/dataset/val'\n",
    "test_dir = 'GroceryStoreDataset/dataset/test'\n",
    "\n",
    "# Configuración del generador para escalar imágenes\n",
    "datagen = ImageDataGenerator(rescale=1.0 / 255)\n",
    "\n",
    "# Generador para el conjunto de entrenamiento\n",
    "train_generator = datagen.flow_from_directory(\n",
    "    train_dir,\n",
    "    target_size=(128, 128),  # Ajustar tamaño de las imágenes\n",
    "    batch_size=32,\n",
    "    class_mode='categorical'\n",
    ")\n",
    "\n",
    "# Generador para el conjunto de validación\n",
    "validation_generator = datagen.flow_from_directory(\n",
    "    valid_dir,\n",
    "    target_size=(128, 128),\n",
    "    batch_size=32,\n",
    "    class_mode='categorical'\n",
    ")\n",
    "\n",
    "# Generador para el conjunto de prueba\n",
    "test_generator = datagen.flow_from_directory(\n",
    "    test_dir,\n",
    "    target_size=(128, 128),\n",
    "    batch_size=32,\n",
    "    class_mode='categorical',\n",
    "    shuffle=False  # Importante para evaluar métricas\n",
    ")\n",
    "\n",
    "# Verificar las clases\n",
    "print(\"Clases encontradas:\", train_generator.class_indices)"
   ]
  },
  {
   "cell_type": "code",
   "execution_count": null,
   "metadata": {},
   "outputs": [],
   "source": []
  }
 ],
 "metadata": {
  "kernelspec": {
   "display_name": "Python 3",
   "language": "python",
   "name": "python3"
  },
  "language_info": {
   "codemirror_mode": {
    "name": "ipython",
    "version": 3
   },
   "file_extension": ".py",
   "mimetype": "text/x-python",
   "name": "python",
   "nbconvert_exporter": "python",
   "pygments_lexer": "ipython3",
   "version": "3.11.7"
  }
 },
 "nbformat": 4,
 "nbformat_minor": 2
}
