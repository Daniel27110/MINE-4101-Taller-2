{
 "cells": [
  {
   "cell_type": "markdown",
   "metadata": {},
   "source": [
    "# Taller 2"
   ]
  },
  {
   "cell_type": "markdown",
   "metadata": {},
   "source": [
    "Daniel Felipe Vargas Ulloa - 202123899\n",
    "Andres Francisco Borda - 201729184\n",
    "MINE-4101: Ciencia de Datos Aplicada"
   ]
  },
  {
   "cell_type": "markdown",
   "metadata": {},
   "source": [
    "## 1. Preparación"
   ]
  },
  {
   "cell_type": "code",
   "execution_count": 1,
   "metadata": {},
   "outputs": [
    {
     "name": "stdout",
     "output_type": "stream",
     "text": [
      "WARNING:tensorflow:From c:\\Users\\andre\\AppData\\Local\\Programs\\Python\\Python311\\Lib\\site-packages\\keras\\src\\losses.py:2976: The name tf.losses.sparse_softmax_cross_entropy is deprecated. Please use tf.compat.v1.losses.sparse_softmax_cross_entropy instead.\n",
      "\n"
     ]
    }
   ],
   "source": [
    "# Importaciones necesarias para construir el modelo\n",
    "\n",
    "# Manipulación de datos\n",
    "import numpy as np\n",
    "import pandas as pd\n",
    "\n",
    "# Manejo de imágenes y visualización\n",
    "import matplotlib.pyplot as plt\n",
    "import seaborn as sns\n",
    "from PIL import Image\n",
    "\n",
    "# Librerías de machine learning y deep learning\n",
    "import tensorflow as tf\n",
    "from tensorflow.keras.models import Sequential\n",
    "from tensorflow.keras.layers import Dense, Dropout, Flatten, Conv2D, MaxPooling2D\n",
    "from tensorflow.keras import layers, models\n",
    "from tensorflow.keras.preprocessing.image import ImageDataGenerator\n",
    "from tensorflow.keras.layers import BatchNormalization\n",
    "from tensorflow.keras.callbacks import EarlyStopping\n",
    "from tensorflow.keras.optimizers import Adam\n",
    "from tensorflow.keras.regularizers import l2\n",
    "\n",
    "# Configuración adicional\n",
    "import os\n",
    "import shutil\n",
    "import warnings\n",
    "warnings.filterwarnings('ignore')\n",
    "\n",
    "\n"
   ]
  },
  {
   "cell_type": "markdown",
   "metadata": {},
   "source": [
    "Despues de importar las librerias necesarias pasamos a cargar los datos de entrenamiento procesados previamente en la etapa de entendimiento y preparación. Para realizar el análisis desde las capas especificas de productos y no desde las categorias mayores se re estructuran los datos en carpetas combinadas."
   ]
  },
  {
   "cell_type": "code",
   "execution_count": 2,
   "metadata": {},
   "outputs": [
    {
     "name": "stdout",
     "output_type": "stream",
     "text": [
      "Estructura de directorios combinados creada con éxito.\n"
     ]
    }
   ],
   "source": [
    "# Directorios originales y el directorio de destino\n",
    "original_train_dir = 'GroceryStoreDataset/dataset/train_augmented/'\n",
    "new_train_dir = 'GroceryStoreDataset/dataset/train_combined/'\n",
    "\n",
    "# Crear el nuevo directorio de clases combinadas\n",
    "if not os.path.exists(new_train_dir):\n",
    "    os.makedirs(new_train_dir)\n",
    "\n",
    "# Recorremos las carpetas principales (clases gruesas)\n",
    "for coarse_class in os.listdir(original_train_dir):\n",
    "    coarse_class_path = os.path.join(original_train_dir, coarse_class)\n",
    "    \n",
    "    # Verificamos si es una carpeta\n",
    "    if os.path.isdir(coarse_class_path):\n",
    "        \n",
    "        # Recorremos las subcarpetas (clases finas)\n",
    "        for fine_class in os.listdir(coarse_class_path):\n",
    "            fine_class_path = os.path.join(coarse_class_path, fine_class)\n",
    "            \n",
    "            # Verificamos si es una carpeta\n",
    "            if os.path.isdir(fine_class_path):\n",
    "                \n",
    "                # Creamos una nueva carpeta para la clase gruesa + fina\n",
    "                new_class_name = f'{coarse_class}_{fine_class}'\n",
    "                new_class_path = os.path.join(new_train_dir, new_class_name)\n",
    "                \n",
    "                if not os.path.exists(new_class_path):\n",
    "                    os.makedirs(new_class_path)\n",
    "                \n",
    "                # Copiamos las imágenes de la clase fina a la nueva carpeta combinada\n",
    "                for image_name in os.listdir(fine_class_path):\n",
    "                    image_path = os.path.join(fine_class_path, image_name)\n",
    "                    \n",
    "                    # Verificamos si es una imagen\n",
    "                    if os.path.isfile(image_path):\n",
    "                        shutil.copy(image_path, new_class_path)\n",
    "\n",
    "print(\"Estructura de directorios combinados creada con éxito.\")"
   ]
  },
  {
   "cell_type": "code",
   "execution_count": 3,
   "metadata": {},
   "outputs": [
    {
     "name": "stdout",
     "output_type": "stream",
     "text": [
      "Found 21120 images belonging to 81 classes.\n",
      "{'Apple_Golden-Delicious': 0, 'Apple_Granny-Smith': 1, 'Apple_Pink-Lady': 2, 'Apple_Red-Delicious': 3, 'Apple_Royal-Gala': 4, 'Asparagus_Asparagus': 5, 'Aubergine_Aubergine': 6, 'Avocado_Avocado': 7, 'Banana_Banana': 8, 'Cabbage_Cabbage': 9, 'Carrots_Carrots': 10, 'Cucumber_Cucumber': 11, 'Garlic_Garlic': 12, 'Ginger_Ginger': 13, 'Juice_Bravo-Apple-Juice': 14, 'Juice_Bravo-Orange-Juice': 15, 'Juice_God-Morgon-Apple-Juice': 16, 'Juice_God-Morgon-Orange-Juice': 17, 'Juice_God-Morgon-Orange-Red-Grapefruit-Juice': 18, 'Juice_God-Morgon-Red-Grapefruit-Juice': 19, 'Juice_Tropicana-Apple-Juice': 20, 'Juice_Tropicana-Golden-Grapefruit': 21, 'Juice_Tropicana-Juice-Smooth': 22, 'Juice_Tropicana-Mandarin-Morning': 23, 'Kiwi_Kiwi': 24, 'Leek_Leek': 25, 'Lemon_Lemon': 26, 'Lime_Lime': 27, 'Mango_Mango': 28, 'Melon_Cantaloupe': 29, 'Melon_Galia-Melon': 30, 'Melon_Honeydew-Melon': 31, 'Melon_Watermelon': 32, 'Milk_Arla-Ecological-Medium-Fat-Milk': 33, 'Milk_Arla-Lactose-Medium-Fat-Milk': 34, 'Milk_Arla-Medium-Fat-Milk': 35, 'Milk_Arla-Standard-Milk': 36, 'Milk_Garant-Ecological-Medium-Fat-Milk': 37, 'Milk_Garant-Ecological-Standard-Milk': 38, 'Mushroom_Brown-Cap-Mushroom': 39, 'Nectarine_Nectarine': 40, 'Oat-Milk_Oatly-Oat-Milk': 41, 'Oatghurt_Oatly-Natural-Oatghurt': 42, 'Onion_Yellow-Onion': 43, 'Orange_Orange': 44, 'Papaya_Papaya': 45, 'Passion-Fruit_Passion-Fruit': 46, 'Peach_Peach': 47, 'Pear_Anjou': 48, 'Pear_Conference': 49, 'Pear_Kaiser': 50, 'Pepper_Green-Bell-Pepper': 51, 'Pepper_Orange-Bell-Pepper': 52, 'Pepper_Red-Bell-Pepper': 53, 'Pepper_Yellow-Bell-Pepper': 54, 'Pineapple_Pineapple': 55, 'Plum_Plum': 56, 'Pomegranate_Pomegranate': 57, 'Potato_Floury-Potato': 58, 'Potato_Solid-Potato': 59, 'Potato_Sweet-Potato': 60, 'Red-Beet_Red-Beet': 61, 'Red-Grapefruit_Red-Grapefruit': 62, 'Satsumas_Satsumas': 63, 'Sour-Cream_Arla-Ecological-Sour-Cream': 64, 'Sour-Cream_Arla-Sour-Cream': 65, 'Sour-Milk_Arla-Sour-Milk': 66, 'Soy-Milk_Alpro-Fresh-Soy-Milk': 67, 'Soy-Milk_Alpro-Shelf-Soy-Milk': 68, 'Soyghurt_Alpro-Blueberry-Soyghurt': 69, 'Soyghurt_Alpro-Vanilla-Soyghurt': 70, 'Tomato_Beef-Tomato': 71, 'Tomato_Regular-Tomato': 72, 'Tomato_Vine-Tomato': 73, 'Yoghurt_Arla-Mild-Vanilla-Yoghurt': 74, 'Yoghurt_Arla-Natural-Mild-Low-Fat-Yoghurt': 75, 'Yoghurt_Arla-Natural-Yoghurt': 76, 'Yoghurt_Valio-Vanilla-Yoghurt': 77, 'Yoghurt_Yoggi-Strawberry-Yoghurt': 78, 'Yoghurt_Yoggi-Vanilla-Yoghurt': 79, 'Zucchini_Zucchini': 80}\n"
     ]
    }
   ],
   "source": [
    "# Directorios para los datos\n",
    "train_dir = 'GroceryStoreDataset/dataset/train_augmented/'\n",
    "\n",
    "# Definimos el generador de datos para cargar las imágenes de entrenamiento\n",
    "train_datagen = ImageDataGenerator(rescale=1./255) \n",
    "\n",
    "train_generator = train_datagen.flow_from_directory(\n",
    "    new_train_dir,\n",
    "    target_size=(128, 128),\n",
    "    batch_size=32,\n",
    "    class_mode='sparse',\n",
    "    shuffle=True\n",
    ")\n",
    "\n",
    "# Verificamos las clases combinadas\n",
    "print(train_generator.class_indices)"
   ]
  },
  {
   "cell_type": "code",
   "execution_count": 4,
   "metadata": {},
   "outputs": [
    {
     "name": "stdout",
     "output_type": "stream",
     "text": [
      "Estructura de directorios combinados creada con éxito en GroceryStoreDataset/dataset/val_combined/.\n",
      "Estructura de directorios combinados creada con éxito en GroceryStoreDataset/dataset/test_combined/.\n"
     ]
    }
   ],
   "source": [
    "# Directorios originales y el directorio de destino para val y test\n",
    "original_valid_dir = 'GroceryStoreDataset/dataset/val/'\n",
    "original_test_dir = 'GroceryStoreDataset/dataset/test/'\n",
    "\n",
    "new_valid_dir = 'GroceryStoreDataset/dataset/val_combined/'\n",
    "new_test_dir = 'GroceryStoreDataset/dataset/test_combined/'\n",
    "\n",
    "# Función para reestructurar los datos\n",
    "def restructure_data(original_dir, new_dir):\n",
    "    if not os.path.exists(new_dir):\n",
    "        os.makedirs(new_dir)\n",
    "\n",
    "    # Recorremos las carpetas principales (Fruits, Vegetables, Packages)\n",
    "    for category in os.listdir(original_dir):\n",
    "        category_path = os.path.join(original_dir, category)\n",
    "\n",
    "        # Verificamos si es una carpeta (Fruits, Vegetables, o Packages)\n",
    "        if os.path.isdir(category_path):\n",
    "            # Recorremos las subcarpetas (las clases gruesas como Apple, Banana, etc.)\n",
    "            for coarse_class in os.listdir(category_path):\n",
    "                coarse_class_path = os.path.join(category_path, coarse_class)\n",
    "\n",
    "                # Verificamos si es una carpeta (como Apple, Banana, etc.)\n",
    "                if os.path.isdir(coarse_class_path):\n",
    "                    # Recorremos las subcarpetas (las clases finas como Golden-Delicious, etc.)\n",
    "                    for fine_class in os.listdir(coarse_class_path):\n",
    "                        fine_class_path = os.path.join(coarse_class_path, fine_class)\n",
    "\n",
    "                        # Verificamos si es una carpeta (como Golden-Delicious, etc.)\n",
    "                        if os.path.isdir(fine_class_path):\n",
    "                            # Creamos la carpeta combinada con la clase gruesa y fina\n",
    "                            new_class_name = f'{coarse_class}_{fine_class}'\n",
    "                            new_class_path = os.path.join(new_dir, new_class_name)\n",
    "\n",
    "                            if not os.path.exists(new_class_path):\n",
    "                                os.makedirs(new_class_path)\n",
    "\n",
    "                            # Copiamos las imágenes a la nueva carpeta combinada\n",
    "                            for image_name in os.listdir(fine_class_path):\n",
    "                                image_path = os.path.join(fine_class_path, image_name)\n",
    "                                # Verificamos si es una imagen\n",
    "                                if os.path.isfile(image_path):\n",
    "                                    shutil.copy(image_path, new_class_path)\n",
    "\n",
    "    print(f\"Estructura de directorios combinados creada con éxito en {new_dir}.\")\n",
    "\n",
    "# Reestructuramos los directorios de validación y test\n",
    "restructure_data(original_valid_dir, new_valid_dir)\n",
    "restructure_data(original_test_dir, new_test_dir)"
   ]
  },
  {
   "cell_type": "code",
   "execution_count": 5,
   "metadata": {},
   "outputs": [
    {
     "name": "stdout",
     "output_type": "stream",
     "text": [
      "Found 185 images belonging to 81 classes.\n"
     ]
    },
    {
     "name": "stdout",
     "output_type": "stream",
     "text": [
      "Found 1674 images belonging to 81 classes.\n",
      "{'Apple_Golden-Delicious': 0, 'Apple_Granny-Smith': 1, 'Apple_Pink-Lady': 2, 'Apple_Red-Delicious': 3, 'Apple_Royal-Gala': 4, 'Asparagus_Asparagus': 5, 'Aubergine_Aubergine': 6, 'Avocado_Avocado': 7, 'Banana_Banana': 8, 'Cabbage_Cabbage': 9, 'Carrots_Carrots': 10, 'Cucumber_Cucumber': 11, 'Garlic_Garlic': 12, 'Ginger_Ginger': 13, 'Juice_Bravo-Apple-Juice': 14, 'Juice_Bravo-Orange-Juice': 15, 'Juice_God-Morgon-Apple-Juice': 16, 'Juice_God-Morgon-Orange-Juice': 17, 'Juice_God-Morgon-Orange-Red-Grapefruit-Juice': 18, 'Juice_God-Morgon-Red-Grapefruit-Juice': 19, 'Juice_Tropicana-Apple-Juice': 20, 'Juice_Tropicana-Golden-Grapefruit': 21, 'Juice_Tropicana-Juice-Smooth': 22, 'Juice_Tropicana-Mandarin-Morning': 23, 'Kiwi_Kiwi': 24, 'Leek_Leek': 25, 'Lemon_Lemon': 26, 'Lime_Lime': 27, 'Mango_Mango': 28, 'Melon_Cantaloupe': 29, 'Melon_Galia-Melon': 30, 'Melon_Honeydew-Melon': 31, 'Melon_Watermelon': 32, 'Milk_Arla-Ecological-Medium-Fat-Milk': 33, 'Milk_Arla-Lactose-Medium-Fat-Milk': 34, 'Milk_Arla-Medium-Fat-Milk': 35, 'Milk_Arla-Standard-Milk': 36, 'Milk_Garant-Ecological-Medium-Fat-Milk': 37, 'Milk_Garant-Ecological-Standard-Milk': 38, 'Mushroom_Brown-Cap-Mushroom': 39, 'Nectarine_Nectarine': 40, 'Oat-Milk_Oatly-Oat-Milk': 41, 'Oatghurt_Oatly-Natural-Oatghurt': 42, 'Onion_Yellow-Onion': 43, 'Orange_Orange': 44, 'Papaya_Papaya': 45, 'Passion-Fruit_Passion-Fruit': 46, 'Peach_Peach': 47, 'Pear_Anjou': 48, 'Pear_Conference': 49, 'Pear_Kaiser': 50, 'Pepper_Green-Bell-Pepper': 51, 'Pepper_Orange-Bell-Pepper': 52, 'Pepper_Red-Bell-Pepper': 53, 'Pepper_Yellow-Bell-Pepper': 54, 'Pineapple_Pineapple': 55, 'Plum_Plum': 56, 'Pomegranate_Pomegranate': 57, 'Potato_Floury-Potato': 58, 'Potato_Solid-Potato': 59, 'Potato_Sweet-Potato': 60, 'Red-Beet_Red-Beet': 61, 'Red-Grapefruit_Red-Grapefruit': 62, 'Satsumas_Satsumas': 63, 'Sour-Cream_Arla-Ecological-Sour-Cream': 64, 'Sour-Cream_Arla-Sour-Cream': 65, 'Sour-Milk_Arla-Sour-Milk': 66, 'Soy-Milk_Alpro-Fresh-Soy-Milk': 67, 'Soy-Milk_Alpro-Shelf-Soy-Milk': 68, 'Soyghurt_Alpro-Blueberry-Soyghurt': 69, 'Soyghurt_Alpro-Vanilla-Soyghurt': 70, 'Tomato_Beef-Tomato': 71, 'Tomato_Regular-Tomato': 72, 'Tomato_Vine-Tomato': 73, 'Yoghurt_Arla-Mild-Vanilla-Yoghurt': 74, 'Yoghurt_Arla-Natural-Mild-Low-Fat-Yoghurt': 75, 'Yoghurt_Arla-Natural-Yoghurt': 76, 'Yoghurt_Valio-Vanilla-Yoghurt': 77, 'Yoghurt_Yoggi-Strawberry-Yoghurt': 78, 'Yoghurt_Yoggi-Vanilla-Yoghurt': 79, 'Zucchini_Zucchini': 80}\n",
      "{'Apple_Golden-Delicious': 0, 'Apple_Granny-Smith': 1, 'Apple_Pink-Lady': 2, 'Apple_Red-Delicious': 3, 'Apple_Royal-Gala': 4, 'Asparagus_Asparagus': 5, 'Aubergine_Aubergine': 6, 'Avocado_Avocado': 7, 'Banana_Banana': 8, 'Cabbage_Cabbage': 9, 'Carrots_Carrots': 10, 'Cucumber_Cucumber': 11, 'Garlic_Garlic': 12, 'Ginger_Ginger': 13, 'Juice_Bravo-Apple-Juice': 14, 'Juice_Bravo-Orange-Juice': 15, 'Juice_God-Morgon-Apple-Juice': 16, 'Juice_God-Morgon-Orange-Juice': 17, 'Juice_God-Morgon-Orange-Red-Grapefruit-Juice': 18, 'Juice_God-Morgon-Red-Grapefruit-Juice': 19, 'Juice_Tropicana-Apple-Juice': 20, 'Juice_Tropicana-Golden-Grapefruit': 21, 'Juice_Tropicana-Juice-Smooth': 22, 'Juice_Tropicana-Mandarin-Morning': 23, 'Kiwi_Kiwi': 24, 'Leek_Leek': 25, 'Lemon_Lemon': 26, 'Lime_Lime': 27, 'Mango_Mango': 28, 'Melon_Cantaloupe': 29, 'Melon_Galia-Melon': 30, 'Melon_Honeydew-Melon': 31, 'Melon_Watermelon': 32, 'Milk_Arla-Ecological-Medium-Fat-Milk': 33, 'Milk_Arla-Lactose-Medium-Fat-Milk': 34, 'Milk_Arla-Medium-Fat-Milk': 35, 'Milk_Arla-Standard-Milk': 36, 'Milk_Garant-Ecological-Medium-Fat-Milk': 37, 'Milk_Garant-Ecological-Standard-Milk': 38, 'Mushroom_Brown-Cap-Mushroom': 39, 'Nectarine_Nectarine': 40, 'Oat-Milk_Oatly-Oat-Milk': 41, 'Oatghurt_Oatly-Natural-Oatghurt': 42, 'Onion_Yellow-Onion': 43, 'Orange_Orange': 44, 'Papaya_Papaya': 45, 'Passion-Fruit_Passion-Fruit': 46, 'Peach_Peach': 47, 'Pear_Anjou': 48, 'Pear_Conference': 49, 'Pear_Kaiser': 50, 'Pepper_Green-Bell-Pepper': 51, 'Pepper_Orange-Bell-Pepper': 52, 'Pepper_Red-Bell-Pepper': 53, 'Pepper_Yellow-Bell-Pepper': 54, 'Pineapple_Pineapple': 55, 'Plum_Plum': 56, 'Pomegranate_Pomegranate': 57, 'Potato_Floury-Potato': 58, 'Potato_Solid-Potato': 59, 'Potato_Sweet-Potato': 60, 'Red-Beet_Red-Beet': 61, 'Red-Grapefruit_Red-Grapefruit': 62, 'Satsumas_Satsumas': 63, 'Sour-Cream_Arla-Ecological-Sour-Cream': 64, 'Sour-Cream_Arla-Sour-Cream': 65, 'Sour-Milk_Arla-Sour-Milk': 66, 'Soy-Milk_Alpro-Fresh-Soy-Milk': 67, 'Soy-Milk_Alpro-Shelf-Soy-Milk': 68, 'Soyghurt_Alpro-Blueberry-Soyghurt': 69, 'Soyghurt_Alpro-Vanilla-Soyghurt': 70, 'Tomato_Beef-Tomato': 71, 'Tomato_Regular-Tomato': 72, 'Tomato_Vine-Tomato': 73, 'Yoghurt_Arla-Mild-Vanilla-Yoghurt': 74, 'Yoghurt_Arla-Natural-Mild-Low-Fat-Yoghurt': 75, 'Yoghurt_Arla-Natural-Yoghurt': 76, 'Yoghurt_Valio-Vanilla-Yoghurt': 77, 'Yoghurt_Yoggi-Strawberry-Yoghurt': 78, 'Yoghurt_Yoggi-Vanilla-Yoghurt': 79, 'Zucchini_Zucchini': 80}\n"
     ]
    }
   ],
   "source": [
    "valid_datagen = ImageDataGenerator(rescale=1./255)\n",
    "test_datagen = ImageDataGenerator(rescale=1./255)\n",
    "\n",
    "valid_generator = valid_datagen.flow_from_directory(\n",
    "    new_valid_dir,\n",
    "    target_size=(128, 128),\n",
    "    batch_size=32,\n",
    "    class_mode='sparse',\n",
    "    shuffle=True\n",
    ")\n",
    "\n",
    "test_generator = test_datagen.flow_from_directory(\n",
    "    new_test_dir,\n",
    "    target_size=(128, 128),\n",
    "    batch_size=32,\n",
    "    class_mode='sparse',\n",
    "    shuffle=False\n",
    ")\n",
    "\n",
    "# Verificamos las clases combinadas\n",
    "print(valid_generator.class_indices)\n",
    "print(test_generator.class_indices)"
   ]
  },
  {
   "cell_type": "markdown",
   "metadata": {},
   "source": [
    "Basado en lo encontrado, podemos ver que el set de entrenamiento tiene fotos de productos que los otros sets no. Para poder corre el modelo efetivamente sera necesario añadir asi sea vacias estas clases a los otros sets asi que se realiza este ejercicio de emparejamiento."
   ]
  },
  {
   "cell_type": "code",
   "execution_count": 6,
   "metadata": {},
   "outputs": [
    {
     "name": "stdout",
     "output_type": "stream",
     "text": [
      "Creando clase vacía: Apple_Red-Delicious\n",
      "Creando clase vacía: Asparagus_Asparagus\n",
      "Creando clase vacía: Aubergine_Aubergine\n",
      "Creando clase vacía: Avocado_Avocado\n",
      "Creando clase vacía: Banana_Banana\n",
      "Creando clase vacía: Cabbage_Cabbage\n",
      "Creando clase vacía: Carrots_Carrots\n",
      "Creando clase vacía: Cucumber_Cucumber\n",
      "Creando clase vacía: Garlic_Garlic\n",
      "Creando clase vacía: Ginger_Ginger\n",
      "Creando clase vacía: Juice_Tropicana-Apple-Juice\n",
      "Creando clase vacía: Juice_Tropicana-Golden-Grapefruit\n",
      "Creando clase vacía: Juice_Tropicana-Juice-Smooth\n",
      "Creando clase vacía: Juice_Tropicana-Mandarin-Morning\n",
      "Creando clase vacía: Kiwi_Kiwi\n",
      "Creando clase vacía: Leek_Leek\n",
      "Creando clase vacía: Lemon_Lemon\n",
      "Creando clase vacía: Lime_Lime\n",
      "Creando clase vacía: Mango_Mango\n",
      "Creando clase vacía: Milk_Arla-Lactose-Medium-Fat-Milk\n",
      "Creando clase vacía: Mushroom_Brown-Cap-Mushroom\n",
      "Creando clase vacía: Nectarine_Nectarine\n",
      "Creando clase vacía: Orange_Orange\n",
      "Creando clase vacía: Papaya_Papaya\n",
      "Creando clase vacía: Passion-Fruit_Passion-Fruit\n",
      "Creando clase vacía: Peach_Peach\n",
      "Creando clase vacía: Pear_Anjou\n",
      "Creando clase vacía: Pear_Kaiser\n",
      "Creando clase vacía: Pepper_Green-Bell-Pepper\n",
      "Creando clase vacía: Pineapple_Pineapple\n",
      "Creando clase vacía: Plum_Plum\n",
      "Creando clase vacía: Pomegranate_Pomegranate\n",
      "Creando clase vacía: Potato_Solid-Potato\n",
      "Creando clase vacía: Red-Beet_Red-Beet\n",
      "Creando clase vacía: Red-Grapefruit_Red-Grapefruit\n",
      "Creando clase vacía: Satsumas_Satsumas\n",
      "Creando clase vacía: Sour-Cream_Arla-Ecological-Sour-Cream\n",
      "Creando clase vacía: Sour-Milk_Arla-Sour-Milk\n",
      "Creando clase vacía: Soy-Milk_Alpro-Fresh-Soy-Milk\n",
      "Creando clase vacía: Soy-Milk_Alpro-Shelf-Soy-Milk\n",
      "Creando clase vacía: Tomato_Regular-Tomato\n",
      "Creando clase vacía: Yoghurt_Arla-Natural-Mild-Low-Fat-Yoghurt\n",
      "Creando clase vacía: Yoghurt_Arla-Natural-Yoghurt\n",
      "Creando clase vacía: Zucchini_Zucchini\n",
      "Creando clase vacía: Asparagus_Asparagus\n",
      "Creando clase vacía: Aubergine_Aubergine\n",
      "Creando clase vacía: Avocado_Avocado\n",
      "Creando clase vacía: Banana_Banana\n",
      "Creando clase vacía: Cabbage_Cabbage\n",
      "Creando clase vacía: Carrots_Carrots\n",
      "Creando clase vacía: Cucumber_Cucumber\n",
      "Creando clase vacía: Garlic_Garlic\n",
      "Creando clase vacía: Ginger_Ginger\n",
      "Creando clase vacía: Kiwi_Kiwi\n",
      "Creando clase vacía: Leek_Leek\n",
      "Creando clase vacía: Lemon_Lemon\n",
      "Creando clase vacía: Lime_Lime\n",
      "Creando clase vacía: Mango_Mango\n",
      "Creando clase vacía: Nectarine_Nectarine\n",
      "Creando clase vacía: Orange_Orange\n",
      "Creando clase vacía: Papaya_Papaya\n",
      "Creando clase vacía: Passion-Fruit_Passion-Fruit\n",
      "Creando clase vacía: Peach_Peach\n",
      "Creando clase vacía: Pineapple_Pineapple\n",
      "Creando clase vacía: Plum_Plum\n",
      "Creando clase vacía: Pomegranate_Pomegranate\n",
      "Creando clase vacía: Red-Beet_Red-Beet\n",
      "Creando clase vacía: Red-Grapefruit_Red-Grapefruit\n",
      "Creando clase vacía: Satsumas_Satsumas\n",
      "Creando clase vacía: Zucchini_Zucchini\n",
      "Ajuste de clases completado.\n"
     ]
    }
   ],
   "source": [
    "# Directorios de train, val y test\n",
    "train_dir = 'GroceryStoreDataset/dataset/train_combined/'\n",
    "valid_dir = 'GroceryStoreDataset/dataset/val_combined/'\n",
    "test_dir = 'GroceryStoreDataset/dataset/test_combined/'\n",
    "\n",
    "# Obtener las clases del conjunto de entrenamiento\n",
    "train_classes = set(os.listdir(train_dir))\n",
    "\n",
    "# Función para crear clases vacías y eliminar clases no deseadas\n",
    "def adjust_classes(original_dir, train_classes):\n",
    "    # Recorremos las carpetas del directorio original (val o test)\n",
    "    for category in os.listdir(original_dir):\n",
    "        category_path = os.path.join(original_dir, category)\n",
    "        \n",
    "        if os.path.isdir(category_path):\n",
    "            # Si la clase no está en el conjunto de entrenamiento, la eliminamos\n",
    "            if category not in train_classes:\n",
    "                shutil.rmtree(category_path) \n",
    "            else:\n",
    "                # Si la clase no tiene imágenes, la creamos como vacía\n",
    "                if len(os.listdir(category_path)) == 0:\n",
    "                    print(f\"Creando clase vacía: {category}\")\n",
    "\n",
    "    # Ahora, nos aseguramos de que todas las clases de entrenamiento estén presentes como carpetas en val y test\n",
    "    for train_class in train_classes:\n",
    "        class_path = os.path.join(original_dir, train_class)\n",
    "        if not os.path.exists(class_path):\n",
    "            print(f\"Creando clase vacía en {original_dir}: {train_class}\")\n",
    "            os.makedirs(class_path)\n",
    "\n",
    "# Ajustar las clases en validación y prueba\n",
    "adjust_classes(valid_dir, train_classes)\n",
    "adjust_classes(test_dir, train_classes)\n",
    "\n",
    "print(\"Ajuste de clases completado.\")"
   ]
  },
  {
   "cell_type": "code",
   "execution_count": 7,
   "metadata": {},
   "outputs": [
    {
     "name": "stdout",
     "output_type": "stream",
     "text": [
      "Found 21120 images belonging to 81 classes.\n",
      "Found 185 images belonging to 81 classes.\n",
      "Found 1674 images belonging to 81 classes.\n",
      "Clases de entrenamiento: {'Apple_Golden-Delicious': 0, 'Apple_Granny-Smith': 1, 'Apple_Pink-Lady': 2, 'Apple_Red-Delicious': 3, 'Apple_Royal-Gala': 4, 'Asparagus_Asparagus': 5, 'Aubergine_Aubergine': 6, 'Avocado_Avocado': 7, 'Banana_Banana': 8, 'Cabbage_Cabbage': 9, 'Carrots_Carrots': 10, 'Cucumber_Cucumber': 11, 'Garlic_Garlic': 12, 'Ginger_Ginger': 13, 'Juice_Bravo-Apple-Juice': 14, 'Juice_Bravo-Orange-Juice': 15, 'Juice_God-Morgon-Apple-Juice': 16, 'Juice_God-Morgon-Orange-Juice': 17, 'Juice_God-Morgon-Orange-Red-Grapefruit-Juice': 18, 'Juice_God-Morgon-Red-Grapefruit-Juice': 19, 'Juice_Tropicana-Apple-Juice': 20, 'Juice_Tropicana-Golden-Grapefruit': 21, 'Juice_Tropicana-Juice-Smooth': 22, 'Juice_Tropicana-Mandarin-Morning': 23, 'Kiwi_Kiwi': 24, 'Leek_Leek': 25, 'Lemon_Lemon': 26, 'Lime_Lime': 27, 'Mango_Mango': 28, 'Melon_Cantaloupe': 29, 'Melon_Galia-Melon': 30, 'Melon_Honeydew-Melon': 31, 'Melon_Watermelon': 32, 'Milk_Arla-Ecological-Medium-Fat-Milk': 33, 'Milk_Arla-Lactose-Medium-Fat-Milk': 34, 'Milk_Arla-Medium-Fat-Milk': 35, 'Milk_Arla-Standard-Milk': 36, 'Milk_Garant-Ecological-Medium-Fat-Milk': 37, 'Milk_Garant-Ecological-Standard-Milk': 38, 'Mushroom_Brown-Cap-Mushroom': 39, 'Nectarine_Nectarine': 40, 'Oat-Milk_Oatly-Oat-Milk': 41, 'Oatghurt_Oatly-Natural-Oatghurt': 42, 'Onion_Yellow-Onion': 43, 'Orange_Orange': 44, 'Papaya_Papaya': 45, 'Passion-Fruit_Passion-Fruit': 46, 'Peach_Peach': 47, 'Pear_Anjou': 48, 'Pear_Conference': 49, 'Pear_Kaiser': 50, 'Pepper_Green-Bell-Pepper': 51, 'Pepper_Orange-Bell-Pepper': 52, 'Pepper_Red-Bell-Pepper': 53, 'Pepper_Yellow-Bell-Pepper': 54, 'Pineapple_Pineapple': 55, 'Plum_Plum': 56, 'Pomegranate_Pomegranate': 57, 'Potato_Floury-Potato': 58, 'Potato_Solid-Potato': 59, 'Potato_Sweet-Potato': 60, 'Red-Beet_Red-Beet': 61, 'Red-Grapefruit_Red-Grapefruit': 62, 'Satsumas_Satsumas': 63, 'Sour-Cream_Arla-Ecological-Sour-Cream': 64, 'Sour-Cream_Arla-Sour-Cream': 65, 'Sour-Milk_Arla-Sour-Milk': 66, 'Soy-Milk_Alpro-Fresh-Soy-Milk': 67, 'Soy-Milk_Alpro-Shelf-Soy-Milk': 68, 'Soyghurt_Alpro-Blueberry-Soyghurt': 69, 'Soyghurt_Alpro-Vanilla-Soyghurt': 70, 'Tomato_Beef-Tomato': 71, 'Tomato_Regular-Tomato': 72, 'Tomato_Vine-Tomato': 73, 'Yoghurt_Arla-Mild-Vanilla-Yoghurt': 74, 'Yoghurt_Arla-Natural-Mild-Low-Fat-Yoghurt': 75, 'Yoghurt_Arla-Natural-Yoghurt': 76, 'Yoghurt_Valio-Vanilla-Yoghurt': 77, 'Yoghurt_Yoggi-Strawberry-Yoghurt': 78, 'Yoghurt_Yoggi-Vanilla-Yoghurt': 79, 'Zucchini_Zucchini': 80}\n",
      "Clases de validación: {'Apple_Golden-Delicious': 0, 'Apple_Granny-Smith': 1, 'Apple_Pink-Lady': 2, 'Apple_Red-Delicious': 3, 'Apple_Royal-Gala': 4, 'Asparagus_Asparagus': 5, 'Aubergine_Aubergine': 6, 'Avocado_Avocado': 7, 'Banana_Banana': 8, 'Cabbage_Cabbage': 9, 'Carrots_Carrots': 10, 'Cucumber_Cucumber': 11, 'Garlic_Garlic': 12, 'Ginger_Ginger': 13, 'Juice_Bravo-Apple-Juice': 14, 'Juice_Bravo-Orange-Juice': 15, 'Juice_God-Morgon-Apple-Juice': 16, 'Juice_God-Morgon-Orange-Juice': 17, 'Juice_God-Morgon-Orange-Red-Grapefruit-Juice': 18, 'Juice_God-Morgon-Red-Grapefruit-Juice': 19, 'Juice_Tropicana-Apple-Juice': 20, 'Juice_Tropicana-Golden-Grapefruit': 21, 'Juice_Tropicana-Juice-Smooth': 22, 'Juice_Tropicana-Mandarin-Morning': 23, 'Kiwi_Kiwi': 24, 'Leek_Leek': 25, 'Lemon_Lemon': 26, 'Lime_Lime': 27, 'Mango_Mango': 28, 'Melon_Cantaloupe': 29, 'Melon_Galia-Melon': 30, 'Melon_Honeydew-Melon': 31, 'Melon_Watermelon': 32, 'Milk_Arla-Ecological-Medium-Fat-Milk': 33, 'Milk_Arla-Lactose-Medium-Fat-Milk': 34, 'Milk_Arla-Medium-Fat-Milk': 35, 'Milk_Arla-Standard-Milk': 36, 'Milk_Garant-Ecological-Medium-Fat-Milk': 37, 'Milk_Garant-Ecological-Standard-Milk': 38, 'Mushroom_Brown-Cap-Mushroom': 39, 'Nectarine_Nectarine': 40, 'Oat-Milk_Oatly-Oat-Milk': 41, 'Oatghurt_Oatly-Natural-Oatghurt': 42, 'Onion_Yellow-Onion': 43, 'Orange_Orange': 44, 'Papaya_Papaya': 45, 'Passion-Fruit_Passion-Fruit': 46, 'Peach_Peach': 47, 'Pear_Anjou': 48, 'Pear_Conference': 49, 'Pear_Kaiser': 50, 'Pepper_Green-Bell-Pepper': 51, 'Pepper_Orange-Bell-Pepper': 52, 'Pepper_Red-Bell-Pepper': 53, 'Pepper_Yellow-Bell-Pepper': 54, 'Pineapple_Pineapple': 55, 'Plum_Plum': 56, 'Pomegranate_Pomegranate': 57, 'Potato_Floury-Potato': 58, 'Potato_Solid-Potato': 59, 'Potato_Sweet-Potato': 60, 'Red-Beet_Red-Beet': 61, 'Red-Grapefruit_Red-Grapefruit': 62, 'Satsumas_Satsumas': 63, 'Sour-Cream_Arla-Ecological-Sour-Cream': 64, 'Sour-Cream_Arla-Sour-Cream': 65, 'Sour-Milk_Arla-Sour-Milk': 66, 'Soy-Milk_Alpro-Fresh-Soy-Milk': 67, 'Soy-Milk_Alpro-Shelf-Soy-Milk': 68, 'Soyghurt_Alpro-Blueberry-Soyghurt': 69, 'Soyghurt_Alpro-Vanilla-Soyghurt': 70, 'Tomato_Beef-Tomato': 71, 'Tomato_Regular-Tomato': 72, 'Tomato_Vine-Tomato': 73, 'Yoghurt_Arla-Mild-Vanilla-Yoghurt': 74, 'Yoghurt_Arla-Natural-Mild-Low-Fat-Yoghurt': 75, 'Yoghurt_Arla-Natural-Yoghurt': 76, 'Yoghurt_Valio-Vanilla-Yoghurt': 77, 'Yoghurt_Yoggi-Strawberry-Yoghurt': 78, 'Yoghurt_Yoggi-Vanilla-Yoghurt': 79, 'Zucchini_Zucchini': 80}\n",
      "Clases de prueba: {'Apple_Golden-Delicious': 0, 'Apple_Granny-Smith': 1, 'Apple_Pink-Lady': 2, 'Apple_Red-Delicious': 3, 'Apple_Royal-Gala': 4, 'Asparagus_Asparagus': 5, 'Aubergine_Aubergine': 6, 'Avocado_Avocado': 7, 'Banana_Banana': 8, 'Cabbage_Cabbage': 9, 'Carrots_Carrots': 10, 'Cucumber_Cucumber': 11, 'Garlic_Garlic': 12, 'Ginger_Ginger': 13, 'Juice_Bravo-Apple-Juice': 14, 'Juice_Bravo-Orange-Juice': 15, 'Juice_God-Morgon-Apple-Juice': 16, 'Juice_God-Morgon-Orange-Juice': 17, 'Juice_God-Morgon-Orange-Red-Grapefruit-Juice': 18, 'Juice_God-Morgon-Red-Grapefruit-Juice': 19, 'Juice_Tropicana-Apple-Juice': 20, 'Juice_Tropicana-Golden-Grapefruit': 21, 'Juice_Tropicana-Juice-Smooth': 22, 'Juice_Tropicana-Mandarin-Morning': 23, 'Kiwi_Kiwi': 24, 'Leek_Leek': 25, 'Lemon_Lemon': 26, 'Lime_Lime': 27, 'Mango_Mango': 28, 'Melon_Cantaloupe': 29, 'Melon_Galia-Melon': 30, 'Melon_Honeydew-Melon': 31, 'Melon_Watermelon': 32, 'Milk_Arla-Ecological-Medium-Fat-Milk': 33, 'Milk_Arla-Lactose-Medium-Fat-Milk': 34, 'Milk_Arla-Medium-Fat-Milk': 35, 'Milk_Arla-Standard-Milk': 36, 'Milk_Garant-Ecological-Medium-Fat-Milk': 37, 'Milk_Garant-Ecological-Standard-Milk': 38, 'Mushroom_Brown-Cap-Mushroom': 39, 'Nectarine_Nectarine': 40, 'Oat-Milk_Oatly-Oat-Milk': 41, 'Oatghurt_Oatly-Natural-Oatghurt': 42, 'Onion_Yellow-Onion': 43, 'Orange_Orange': 44, 'Papaya_Papaya': 45, 'Passion-Fruit_Passion-Fruit': 46, 'Peach_Peach': 47, 'Pear_Anjou': 48, 'Pear_Conference': 49, 'Pear_Kaiser': 50, 'Pepper_Green-Bell-Pepper': 51, 'Pepper_Orange-Bell-Pepper': 52, 'Pepper_Red-Bell-Pepper': 53, 'Pepper_Yellow-Bell-Pepper': 54, 'Pineapple_Pineapple': 55, 'Plum_Plum': 56, 'Pomegranate_Pomegranate': 57, 'Potato_Floury-Potato': 58, 'Potato_Solid-Potato': 59, 'Potato_Sweet-Potato': 60, 'Red-Beet_Red-Beet': 61, 'Red-Grapefruit_Red-Grapefruit': 62, 'Satsumas_Satsumas': 63, 'Sour-Cream_Arla-Ecological-Sour-Cream': 64, 'Sour-Cream_Arla-Sour-Cream': 65, 'Sour-Milk_Arla-Sour-Milk': 66, 'Soy-Milk_Alpro-Fresh-Soy-Milk': 67, 'Soy-Milk_Alpro-Shelf-Soy-Milk': 68, 'Soyghurt_Alpro-Blueberry-Soyghurt': 69, 'Soyghurt_Alpro-Vanilla-Soyghurt': 70, 'Tomato_Beef-Tomato': 71, 'Tomato_Regular-Tomato': 72, 'Tomato_Vine-Tomato': 73, 'Yoghurt_Arla-Mild-Vanilla-Yoghurt': 74, 'Yoghurt_Arla-Natural-Mild-Low-Fat-Yoghurt': 75, 'Yoghurt_Arla-Natural-Yoghurt': 76, 'Yoghurt_Valio-Vanilla-Yoghurt': 77, 'Yoghurt_Yoggi-Strawberry-Yoghurt': 78, 'Yoghurt_Yoggi-Vanilla-Yoghurt': 79, 'Zucchini_Zucchini': 80}\n"
     ]
    }
   ],
   "source": [
    "# Directorios ajustados\n",
    "train_dir = 'GroceryStoreDataset/dataset/train_combined/'\n",
    "valid_dir = 'GroceryStoreDataset/dataset/val_combined/'\n",
    "test_dir = 'GroceryStoreDataset/dataset/test_combined/'\n",
    "\n",
    "# Creación de los generadores para entrenamiento, validación y prueba\n",
    "train_datagen = ImageDataGenerator(rescale=1./255)\n",
    "valid_datagen = ImageDataGenerator(rescale=1./255)\n",
    "test_datagen = ImageDataGenerator(rescale=1./255)\n",
    "\n",
    "# Generador de entrenamiento\n",
    "train_generator = train_datagen.flow_from_directory(\n",
    "    train_dir,\n",
    "    target_size=(128, 128), \n",
    "    batch_size=32,\n",
    "    class_mode='sparse', \n",
    "    shuffle=True  \n",
    ")\n",
    "\n",
    "# Generador de validación\n",
    "valid_generator = valid_datagen.flow_from_directory(\n",
    "    valid_dir,  \n",
    "    target_size=(128, 128), \n",
    "    batch_size=32,  \n",
    "    class_mode='sparse', \n",
    "    shuffle=True \n",
    ")\n",
    "\n",
    "# Generador de prueba\n",
    "test_generator = test_datagen.flow_from_directory(\n",
    "    test_dir,\n",
    "    target_size=(128, 128), \n",
    "    batch_size=32,  \n",
    "    class_mode='sparse',  \n",
    "    shuffle=False \n",
    ")\n",
    "\n",
    "# Verificamos las clases cargadas\n",
    "print(f\"Clases de entrenamiento: {train_generator.class_indices}\")\n",
    "print(f\"Clases de validación: {valid_generator.class_indices}\")\n",
    "print(f\"Clases de prueba: {test_generator.class_indices}\")"
   ]
  },
  {
   "cell_type": "markdown",
   "metadata": {},
   "source": [
    "## 2. Construcción del modelo"
   ]
  },
  {
   "cell_type": "code",
   "execution_count": 8,
   "metadata": {},
   "outputs": [
    {
     "name": "stdout",
     "output_type": "stream",
     "text": [
      "WARNING:tensorflow:From c:\\Users\\andre\\AppData\\Local\\Programs\\Python\\Python311\\Lib\\site-packages\\keras\\src\\backend.py:873: The name tf.get_default_graph is deprecated. Please use tf.compat.v1.get_default_graph instead.\n",
      "\n",
      "WARNING:tensorflow:From c:\\Users\\andre\\AppData\\Local\\Programs\\Python\\Python311\\Lib\\site-packages\\keras\\src\\layers\\pooling\\max_pooling2d.py:161: The name tf.nn.max_pool is deprecated. Please use tf.nn.max_pool2d instead.\n",
      "\n"
     ]
    }
   ],
   "source": [
    "model = models.Sequential([\n",
    "    # Capa 1\n",
    "    layers.Conv2D(32, (3, 3), activation='relu', kernel_regularizer=l2(0.02), input_shape=(128, 128, 3)),\n",
    "    BatchNormalization(),\n",
    "    layers.MaxPooling2D((2, 2)),\n",
    "    \n",
    "    # Capa 2\n",
    "    layers.Conv2D(64, (3, 3), activation='relu', kernel_regularizer=l2(0.02)),\n",
    "    BatchNormalization(),\n",
    "    layers.MaxPooling2D((2, 2)),\n",
    "\n",
    "    # Capa 3\n",
    "    layers.Conv2D(128, (3, 3), activation='relu', kernel_regularizer=l2(0.02)),\n",
    "    BatchNormalization(),\n",
    "    layers.MaxPooling2D((2, 2)),\n",
    "\n",
    "    # Aplanar y capas densas\n",
    "    layers.Flatten(),\n",
    "    layers.Dense(256, activation='relu', kernel_regularizer=l2(0.02)),\n",
    "    layers.Dropout(0.6),\n",
    "    layers.Dense(len(train_generator.class_indices), activation='softmax')\n",
    "])\n"
   ]
  },
  {
   "cell_type": "code",
   "execution_count": null,
   "metadata": {},
   "outputs": [
    {
     "name": "stdout",
     "output_type": "stream",
     "text": [
      "Epoch 1/30\n",
      "WARNING:tensorflow:From c:\\Users\\andre\\AppData\\Local\\Programs\\Python\\Python311\\Lib\\site-packages\\keras\\src\\utils\\tf_utils.py:492: The name tf.ragged.RaggedTensorValue is deprecated. Please use tf.compat.v1.ragged.RaggedTensorValue instead.\n",
      "\n",
      "WARNING:tensorflow:From c:\\Users\\andre\\AppData\\Local\\Programs\\Python\\Python311\\Lib\\site-packages\\keras\\src\\engine\\base_layer_utils.py:384: The name tf.executing_eagerly_outside_functions is deprecated. Please use tf.compat.v1.executing_eagerly_outside_functions instead.\n",
      "\n",
      "660/660 [==============================] - 178s 268ms/step - loss: 14.9286 - accuracy: 0.1340 - val_loss: 13.2532 - val_accuracy: 0.1081\n",
      "Epoch 2/30\n",
      "660/660 [==============================] - 176s 267ms/step - loss: 10.7656 - accuracy: 0.3619 - val_loss: 10.3932 - val_accuracy: 0.2108\n",
      "Epoch 3/30\n",
      "660/660 [==============================] - 175s 265ms/step - loss: 8.1191 - accuracy: 0.5485 - val_loss: 8.7531 - val_accuracy: 0.2919\n",
      "Epoch 4/30\n",
      "660/660 [==============================] - 173s 262ms/step - loss: 6.4136 - accuracy: 0.6699 - val_loss: 7.7641 - val_accuracy: 0.2973\n",
      "Epoch 5/30\n",
      "660/660 [==============================] - 173s 263ms/step - loss: 5.2023 - accuracy: 0.7555 - val_loss: 6.7698 - val_accuracy: 0.3297\n",
      "Epoch 6/30\n",
      "660/660 [==============================] - 176s 266ms/step - loss: 4.3167 - accuracy: 0.8143 - val_loss: 6.1959 - val_accuracy: 0.3405\n",
      "Epoch 7/30\n",
      "660/660 [==============================] - 166s 252ms/step - loss: 3.6301 - accuracy: 0.8611 - val_loss: 5.6598 - val_accuracy: 0.3730\n",
      "Epoch 8/30\n",
      "660/660 [==============================] - 168s 255ms/step - loss: 3.1006 - accuracy: 0.8930 - val_loss: 5.2877 - val_accuracy: 0.3297\n",
      "Epoch 9/30\n",
      "660/660 [==============================] - 168s 254ms/step - loss: 2.6896 - accuracy: 0.9136 - val_loss: 4.7521 - val_accuracy: 0.3784\n",
      "Epoch 10/30\n",
      "660/660 [==============================] - 167s 253ms/step - loss: 2.3644 - accuracy: 0.9282 - val_loss: 4.5053 - val_accuracy: 0.3784\n",
      "Epoch 11/30\n",
      "660/660 [==============================] - 168s 255ms/step - loss: 2.1036 - accuracy: 0.9382 - val_loss: 4.5396 - val_accuracy: 0.3838\n",
      "Epoch 12/30\n",
      "660/660 [==============================] - 178s 269ms/step - loss: 1.8936 - accuracy: 0.9474 - val_loss: 4.1618 - val_accuracy: 0.3784\n",
      "Epoch 13/30\n",
      "660/660 [==============================] - 173s 261ms/step - loss: 1.7361 - accuracy: 0.9523 - val_loss: 4.2014 - val_accuracy: 0.3568\n",
      "Epoch 14/30\n",
      "660/660 [==============================] - 178s 269ms/step - loss: 1.6105 - accuracy: 0.9565 - val_loss: 3.6104 - val_accuracy: 0.4216\n",
      "Epoch 15/30\n",
      "660/660 [==============================] - 176s 267ms/step - loss: 1.4857 - accuracy: 0.9640 - val_loss: 3.8838 - val_accuracy: 0.3838\n",
      "Epoch 16/30\n",
      "660/660 [==============================] - 163s 248ms/step - loss: 1.4016 - accuracy: 0.9639 - val_loss: 3.5657 - val_accuracy: 0.4054\n",
      "Epoch 17/30\n",
      "660/660 [==============================] - 166s 252ms/step - loss: 1.3207 - accuracy: 0.9669 - val_loss: 3.5904 - val_accuracy: 0.4486\n",
      "Epoch 18/30\n",
      "660/660 [==============================] - 169s 256ms/step - loss: 1.2689 - accuracy: 0.9661 - val_loss: 3.3218 - val_accuracy: 0.4432\n",
      "Epoch 19/30\n",
      "660/660 [==============================] - 167s 252ms/step - loss: 1.2018 - accuracy: 0.9697 - val_loss: 3.2255 - val_accuracy: 0.4216\n",
      "Epoch 20/30\n",
      "660/660 [==============================] - 169s 256ms/step - loss: 1.1631 - accuracy: 0.9685 - val_loss: 3.0931 - val_accuracy: 0.4378\n",
      "Epoch 21/30\n",
      "660/660 [==============================] - 168s 255ms/step - loss: 1.1083 - accuracy: 0.9729 - val_loss: 3.1504 - val_accuracy: 0.4649\n",
      "Epoch 22/30\n",
      "660/660 [==============================] - 168s 254ms/step - loss: 1.0776 - accuracy: 0.9715 - val_loss: 3.3289 - val_accuracy: 0.4486\n",
      "Epoch 23/30\n",
      "660/660 [==============================] - 166s 252ms/step - loss: 1.0239 - accuracy: 0.9753 - val_loss: 3.0731 - val_accuracy: 0.4270\n",
      "Epoch 24/30\n",
      "660/660 [==============================] - 168s 254ms/step - loss: 1.0036 - accuracy: 0.9724 - val_loss: 3.4377 - val_accuracy: 0.4000\n",
      "Epoch 25/30\n",
      "660/660 [==============================] - 167s 253ms/step - loss: 0.9601 - accuracy: 0.9767 - val_loss: 3.2727 - val_accuracy: 0.4000\n",
      "Epoch 26/30\n",
      "660/660 [==============================] - 170s 258ms/step - loss: 0.9370 - accuracy: 0.9756 - val_loss: 3.0130 - val_accuracy: 0.4703\n",
      "Epoch 27/30\n",
      "660/660 [==============================] - 166s 252ms/step - loss: 0.9118 - accuracy: 0.9777 - val_loss: 2.9250 - val_accuracy: 0.4324\n",
      "Epoch 28/30\n",
      "660/660 [==============================] - 168s 255ms/step - loss: 0.8822 - accuracy: 0.9784 - val_loss: 2.7794 - val_accuracy: 0.4973\n",
      "Epoch 29/30\n",
      "660/660 [==============================] - 168s 254ms/step - loss: 0.8662 - accuracy: 0.9769 - val_loss: 2.8446 - val_accuracy: 0.4865\n",
      "Epoch 30/30\n",
      "660/660 [==============================] - 166s 252ms/step - loss: 0.8467 - accuracy: 0.9788 - val_loss: 2.6882 - val_accuracy: 0.5351\n",
      "53/53 [==============================] - 5s 87ms/step - loss: 2.1697 - accuracy: 0.6243\n",
      "Test accuracy: 0.8243\n"
     ]
    }
   ],
   "source": [
    "early_stopping = EarlyStopping(monitor='val_loss', patience=3, restore_best_weights=True)\n",
    "\n",
    "# Compilación con tasa de aprendizaje más baja\n",
    "model.compile(optimizer=Adam(learning_rate=0.00005), \n",
    "              loss='sparse_categorical_crossentropy', \n",
    "              metrics=['accuracy'])\n",
    "\n",
    "# Entrenamiento\n",
    "history = model.fit(\n",
    "    train_generator,\n",
    "    epochs=30,\n",
    "    validation_data=valid_generator,\n",
    "    callbacks=[early_stopping],\n",
    "    verbose=1\n",
    ")\n",
    "\n",
    "# Evaluar en el conjunto de prueba\n",
    "test_loss, test_acc = model.evaluate(test_generator, verbose=1)\n",
    "print(f\"Test accuracy: {(test_acc):.4f}\")"
   ]
  },
  {
   "cell_type": "markdown",
   "metadata": {},
   "source": [
    "## 3. Análisis de Resultados del modelo"
   ]
  },
  {
   "cell_type": "markdown",
   "metadata": {},
   "source": [
    "El modelo CNN entrenado para la clasificación de productos muestra un rendimiento excepcional en el conjunto de entrenamiento, alcanzando un 97% de precisión. Esto sugiere que el modelo ha logrado aprender de manera muy efectiva las características presentes en los datos de entrenamiento, capturando patrones complejos y distinguiendo entre diferentes clases de productos.\n",
    "\n",
    "Sin embargo, al evaluar el modelo en el conjunto de validación, se observa una disminución significativa en su rendimiento, lo que indica un problema de sobreajuste. Aunque el modelo alcanza un 80% de precisión en el conjunto de prueba, un resultado notable, la disparidad entre los resultados de entrenamiento y validación sugiere que el modelo está demasiado adaptado a los datos de entrenamiento y no generaliza completamente a datos nuevos.\n",
    "\n",
    "El sobreajuste puede deberse a varios factores, como una arquitectura compleja del modelo en relación con el tamaño del conjunto de datos o una falta de regularización adecuada. Esto implica que, aunque el modelo es robusto en condiciones controladas, puede no ser completamente fiable frente a datos del mundo real o productos que no estén representados en el conjunto de entrenamiento."
   ]
  },
  {
   "cell_type": "markdown",
   "metadata": {},
   "source": [
    "### Metrica de desempeño Accuracy"
   ]
  },
  {
   "cell_type": "code",
   "execution_count": null,
   "metadata": {},
   "outputs": [
    {
     "name": "stdout",
     "output_type": "stream",
     "text": [
      "Test accuracy: 0.8243\n"
     ]
    }
   ],
   "source": [
    "print(f\"Test accuracy: {(test_acc):.4f}\")"
   ]
  },
  {
   "cell_type": "markdown",
   "metadata": {},
   "source": [
    "El 80% de precisión obtenido por el modelo CNN en el conjunto de prueba refleja su capacidad para clasificar correctamente 8 de cada 10 productos en el contexto de uso real. Este nivel de precisión es notablemente alto para una tarea compleja como la clasificación de productos a nivel de marca, donde muchas categorías son visualmente similares. Este resultado se utiliza como punto de comparación con el otro modelo evaluado.\n",
    "\n",
    "La precisión es la métrica más adecuada para este proyecto, ya que mide directamente el porcentaje de predicciones correctas sobre el total de predicciones realizadas. Esto es crucial en el contexto del supermercado, donde cada predicción incorrecta puede impactar negativamente la experiencia del cliente, al requerir asistencia manual y aumentar el tiempo de atención. Un modelo con alta precisión asegura que el sistema automático sea confiable, reduciendo errores y aumentando la eficiencia operativa en el proceso de checkout."
   ]
  }
 ],
 "metadata": {
  "kernelspec": {
   "display_name": "Python 3",
   "language": "python",
   "name": "python3"
  },
  "language_info": {
   "codemirror_mode": {
    "name": "ipython",
    "version": 3
   },
   "file_extension": ".py",
   "mimetype": "text/x-python",
   "name": "python",
   "nbconvert_exporter": "python",
   "pygments_lexer": "ipython3",
   "version": "3.11.7"
  }
 },
 "nbformat": 4,
 "nbformat_minor": 2
}
