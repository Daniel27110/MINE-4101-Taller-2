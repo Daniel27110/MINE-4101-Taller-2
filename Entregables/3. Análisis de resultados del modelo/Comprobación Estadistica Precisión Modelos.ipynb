{
 "cells": [
  {
   "cell_type": "code",
   "execution_count": 3,
   "metadata": {},
   "outputs": [],
   "source": [
    "# Install all required libraries if not already installed using pip\n",
    "import subprocess\n",
    "import sys\n",
    "\n",
    "!{sys.executable} -m pip install -r requirements.txt | grep -v 'already satisfied'"
   ]
  },
  {
   "cell_type": "code",
   "execution_count": 7,
   "metadata": {},
   "outputs": [
    {
     "name": "stdout",
     "output_type": "stream",
     "text": [
      "Z-statistic: -9.20\n",
      "P-value: 0.00000000000000000003\n",
      "The difference in accuracies is statistically significant.\n"
     ]
    }
   ],
   "source": [
    "import numpy as np\n",
    "from statsmodels.stats.proportion import proportions_ztest\n",
    "\n",
    "# Input data: accuracies and sample sizes for both models\n",
    "accuracy_model_1 = 0.15\n",
    "accuracy_model_2 = 0.80\n",
    "\n",
    "# Assume the same number of samples for both models\n",
    "# You can replace these with your actual sample sizes\n",
    "n_samples = 100\n",
    "successes_model_1 = int(accuracy_model_1 * n_samples)\n",
    "successes_model_2 = int(accuracy_model_2 * n_samples)\n",
    "\n",
    "# Combine data\n",
    "successes = np.array([successes_model_1, successes_model_2])\n",
    "n_obs = np.array([n_samples, n_samples])\n",
    "\n",
    "# Perform the two-proportion z-test\n",
    "stat, p_value = proportions_ztest(count=successes, nobs=n_obs)\n",
    "\n",
    "# Output the results\n",
    "print(f\"Z-statistic: {stat:.2f}\")\n",
    "print(f\"P-value: {p_value:.20f}\")\n",
    "\n",
    "# Interpret the results\n",
    "alpha = 0.05\n",
    "if p_value < alpha:\n",
    "    print(\"The difference in accuracies is statistically significant.\")\n",
    "else:\n",
    "    print(\"The difference in accuracies is not statistically significant.\")\n"
   ]
  }
 ],
 "metadata": {
  "kernelspec": {
   "display_name": ".venv",
   "language": "python",
   "name": "python3"
  },
  "language_info": {
   "codemirror_mode": {
    "name": "ipython",
    "version": 3
   },
   "file_extension": ".py",
   "mimetype": "text/x-python",
   "name": "python",
   "nbconvert_exporter": "python",
   "pygments_lexer": "ipython3",
   "version": "3.12.7"
  }
 },
 "nbformat": 4,
 "nbformat_minor": 2
}
