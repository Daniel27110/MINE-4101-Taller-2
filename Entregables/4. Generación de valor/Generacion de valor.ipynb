{
 "cells": [
  {
   "cell_type": "markdown",
   "metadata": {},
   "source": [
    "# Análisis de Generacion de Valor"
   ]
  },
  {
   "cell_type": "markdown",
   "metadata": {},
   "source": [
    "## 1. Supuestos"
   ]
  },
  {
   "cell_type": "code",
   "execution_count": 1,
   "metadata": {},
   "outputs": [],
   "source": [
    "# Supuestos\n",
    "tiempo_manual = 10  # Minutos promedio en caja manual\n",
    "tiempo_automatico = 5  # Minutos promedio en caja automática\n",
    "tiempo_error = tiempo_automatico + 2 + tiempo_manual  # 5 + 2 + 10 = 17 minutos por error\n",
    "salario_cajero_mensual = 1300000\n",
    "clientes_por_dia = 500\n",
    "dias_laborales_anuales = 365\n",
    "tasa_error_modelo = 0.2  \n",
    "tasa_acierto_modelo = 0.8  \n"
   ]
  },
  {
   "cell_type": "markdown",
   "metadata": {},
   "source": [
    "## 2. Costos"
   ]
  },
  {
   "cell_type": "code",
   "execution_count": 2,
   "metadata": {},
   "outputs": [],
   "source": [
    "# Costo de tiempo de un cajero por minuto\n",
    "horas_mensuales = 240 \n",
    "minutos_mensuales = horas_mensuales * 60\n",
    "costo_minuto_cajero = salario_cajero_mensual / minutos_mensuales\n",
    "\n",
    "# Costos por tipo de interacción\n",
    "ahorro_tiempo_automatico = tiempo_manual - tiempo_automatico\n",
    "ahorro_por_acierto = ahorro_tiempo_automatico * costo_minuto_cajero\n",
    "costo_por_error = tiempo_error * costo_minuto_cajero\n",
    "\n",
    "# Costo de desarrollo\n",
    "salario_junior = 2500000  # Salario mensual en COP\n",
    "meses_desarrollo = 3  # Tiempo de desarrollo\n",
    "costo_desarrollo = salario_junior * meses_desarrollo\n",
    "\n",
    "# Costos de despliegue\n",
    "costo_servidor_mensual = 150 * 4000  # Costo de servidor AWS en COP\n",
    "costo_servidor_anual = costo_servidor_mensual * 12\n",
    "costo_hora_mantenimiento = salario_junior / horas_mensuales  # Costo por hora del programador\n",
    "horas_mantenimiento_semanal = 2\n",
    "costo_mantenimiento_anual = horas_mantenimiento_semanal * 52 * costo_hora_mantenimiento\n",
    "\n",
    "costo_despliegue_anual = costo_servidor_anual + costo_mantenimiento_anual\n",
    "\n",
    "# Total costos\n",
    "costo_total_anual = costo_desarrollo + costo_despliegue_anual"
   ]
  },
  {
   "cell_type": "markdown",
   "metadata": {},
   "source": [
    "## 3. Ahorro Calculado o ROI "
   ]
  },
  {
   "cell_type": "code",
   "execution_count": 3,
   "metadata": {},
   "outputs": [],
   "source": [
    "# Cálculo del ahorro y costo asociado al modelo\n",
    "aciertos_diarios = clientes_por_dia * tasa_acierto_modelo\n",
    "errores_diarios = clientes_por_dia * tasa_error_modelo\n",
    "\n",
    "ahorro_diario = aciertos_diarios * ahorro_por_acierto\n",
    "costo_diario_errores = errores_diarios * costo_por_error\n",
    "\n",
    "# Ahorro y costo anual\n",
    "ahorro_anual = ahorro_diario * dias_laborales_anuales\n",
    "costo_anual_errores = costo_diario_errores * dias_laborales_anuales\n",
    "ganancia_neta_anual = ahorro_anual - costo_anual_errores\n",
    "\n",
    "# ROI y punto de equilibrio\n",
    "roi = (ganancia_neta_anual - costo_total_anual) / costo_total_anual\n",
    "punto_equilibrio_dias = costo_total_anual / (ahorro_diario - costo_diario_errores)\n",
    "\n"
   ]
  },
  {
   "cell_type": "markdown",
   "metadata": {},
   "source": [
    "## 4. Resultados"
   ]
  },
  {
   "cell_type": "code",
   "execution_count": 4,
   "metadata": {},
   "outputs": [
    {
     "name": "stdout",
     "output_type": "stream",
     "text": [
      "--- Costos ---\n",
      "Costo de desarrollo: $7,500,000.00 COP\n",
      "Costo de servidor anual: $7,200,000.00 COP\n",
      "Costo de mantenimiento anual: $1,083,333.33 COP\n",
      "Costo total anual: $15,783,333.33 COP\n",
      "\n",
      "--- Ahorro y Costo ---\n",
      "Ahorro diario por predicciones acertadas: $180,555.56 COP\n",
      "Costo diario por errores del modelo: $153,472.22 COP\n",
      "Ahorro anual: $65,902,777.78 COP\n",
      "Costo anual por errores: $56,017,361.11 COP\n",
      "Ganancia neta anual: $9,885,416.67 COP\n",
      "\n",
      "--- ROI y Punto de Equilibrio ---\n",
      "ROI anual: -37.37%\n",
      "Punto de equilibrio: 582.77 días\n"
     ]
    }
   ],
   "source": [
    "# Resultados\n",
    "print(f\"--- Costos ---\")\n",
    "print(f\"Costo de desarrollo: ${costo_desarrollo:,.2f} COP\")\n",
    "print(f\"Costo de servidor anual: ${costo_servidor_anual:,.2f} COP\")\n",
    "print(f\"Costo de mantenimiento anual: ${costo_mantenimiento_anual:,.2f} COP\")\n",
    "print(f\"Costo total anual: ${costo_total_anual:,.2f} COP\\n\")\n",
    "\n",
    "print(f\"--- Ahorro y Costo ---\")\n",
    "print(f\"Ahorro diario por predicciones acertadas: ${ahorro_diario:,.2f} COP\")\n",
    "print(f\"Costo diario por errores del modelo: ${costo_diario_errores:,.2f} COP\")\n",
    "print(f\"Ahorro anual: ${ahorro_anual:,.2f} COP\")\n",
    "print(f\"Costo anual por errores: ${costo_anual_errores:,.2f} COP\")\n",
    "print(f\"Ganancia neta anual: ${ganancia_neta_anual:,.2f} COP\\n\")\n",
    "\n",
    "print(f\"--- ROI y Punto de Equilibrio ---\")\n",
    "print(f\"ROI anual: {roi * 100:.2f}%\")\n",
    "print(f\"Punto de equilibrio: {punto_equilibrio_dias:.2f} días\")"
   ]
  }
 ],
 "metadata": {
  "kernelspec": {
   "display_name": "Python 3",
   "language": "python",
   "name": "python3"
  },
  "language_info": {
   "codemirror_mode": {
    "name": "ipython",
    "version": 3
   },
   "file_extension": ".py",
   "mimetype": "text/x-python",
   "name": "python",
   "nbconvert_exporter": "python",
   "pygments_lexer": "ipython3",
   "version": "3.11.7"
  }
 },
 "nbformat": 4,
 "nbformat_minor": 2
}
